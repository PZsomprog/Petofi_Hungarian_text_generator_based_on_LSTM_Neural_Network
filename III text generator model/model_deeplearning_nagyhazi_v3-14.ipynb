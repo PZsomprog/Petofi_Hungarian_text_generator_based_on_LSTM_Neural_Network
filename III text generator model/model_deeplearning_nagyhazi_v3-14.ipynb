{
  "nbformat": 4,
  "nbformat_minor": 0,
  "metadata": {
    "accelerator": "GPU",
    "colab": {
      "name": "model_deeplearning_nagyhazi v3.ipynb",
      "provenance": [],
      "collapsed_sections": []
    },
    "kernelspec": {
      "display_name": "Python 3",
      "language": "python",
      "name": "python3"
    },
    "language_info": {
      "codemirror_mode": {
        "name": "ipython",
        "version": 3
      },
      "file_extension": ".py",
      "mimetype": "text/x-python",
      "name": "python",
      "nbconvert_exporter": "python",
      "pygments_lexer": "ipython3",
      "version": "3.8.5"
    }
  },
  "cells": [
    {
      "cell_type": "code",
      "metadata": {
        "id": "eybnP6SlzMPV"
      },
      "source": [
        "from tensorflow import keras"
      ],
      "execution_count": 91,
      "outputs": []
    },
    {
      "cell_type": "code",
      "metadata": {
        "id": "2zXfuixD1liZ"
      },
      "source": [
        "# Loading the outputs of word2vec\n",
        "with open('/content/input/metadata.tsv', 'r') as fp:\n",
        "    lines_of_wtovec_string = fp.readlines()\n",
        "\n",
        "with open('/content/input/vectors.tsv', 'r',encoding='utf-8') as fp:\n",
        "    lines_of_wtovec_vec = fp.readlines()\n",
        "\n",
        "\n",
        "# Building the dictionary\n",
        "i=0\n",
        "dictionary = dict() #make an empty dict\n",
        "for line in lines_of_wtovec_string:\n",
        "    dictionary[lines_of_wtovec_string[i][:-1]] = lines_of_wtovec_vec[i][:-1]\n",
        "    i=i+1\n",
        "    \n",
        "# Conversion: words->indicies, indicies->words\n",
        "words_indicies = dict((w, i) for i, w in enumerate(dictionary.keys()))\n",
        "indicies_words = dict((i, w) for i, w in enumerate(dictionary.keys()))"
      ],
      "execution_count": 92,
      "outputs": []
    },
    {
      "cell_type": "code",
      "metadata": {
        "id": "MpLYBIbtcFVV"
      },
      "source": [
        ""
      ],
      "execution_count": 92,
      "outputs": []
    },
    {
      "cell_type": "code",
      "metadata": {
        "id": "Uy6zMIlrUhOM"
      },
      "source": [
        ""
      ],
      "execution_count": 92,
      "outputs": []
    },
    {
      "cell_type": "code",
      "metadata": {
        "id": "ME0Nv7CA1paR",
        "scrolled": true
      },
      "source": [
        "# This function filters out the unnecessary symbols\n",
        "# Input: txt file\n",
        "# Output: transformed_words, transformed_labels\n",
        "import re\n",
        "def dict_transformer(path_to_txt):\n",
        "  with open(path_to_txt, 'r',encoding='utf-8') as fp: \n",
        "    linesofdatabasetrain = fp.readlines()\n",
        "\n",
        "  transformed_words = []\n",
        "  transformed_labels = []\n",
        "  for line in linesofdatabasetrain:\n",
        "    line = re.sub('[<>]', '', line) #hulye jelek kiszurese\n",
        "    wordsarray = line[:-1].split(' ') #minus1 a \\n kiszuresere\n",
        "    for word in wordsarray:\n",
        "      #print(word)\n",
        "      try:\n",
        "        transformed_labels.append(words_indicies[word])\n",
        "        word=dictionary[word]\n",
        "        transformed_words.append(word)\n",
        "      except:\n",
        "        transformed_labels.append(words_indicies['[UNK]'])\n",
        "        word=dictionary['[UNK]']\n",
        "        transformed_words.append(word)\n",
        "\n",
        "  return transformed_words, transformed_labels\n",
        "\n",
        "\n",
        "        \n",
        "        "
      ],
      "execution_count": 93,
      "outputs": []
    },
    {
      "cell_type": "code",
      "metadata": {
        "id": "DoRpBqGpC_2t"
      },
      "source": [
        "# We will use these to train the model\n",
        "train_data_path = '/content/input/databasetrain.txt'\n",
        "wordstransfomedarraytrain, wordstransfomedarraytrain_labels = dict_transformer(train_data_path)\n",
        "\n",
        "test_data_path = '/content/input/databasetest.txt'\n",
        "wordstransfomedarraytest, wordstransfomedarraytest_labels = dict_transformer(test_data_path)\n",
        "\n",
        "valid_data_path = '/content/input/databasevalid.txt'\n",
        "wordstransfomedarrayvalid, wordstransfomedarrayvalid_labels = dict_transformer(test_data_path)"
      ],
      "execution_count": 94,
      "outputs": []
    },
    {
      "cell_type": "code",
      "metadata": {
        "id": "gdIlXXjCUhOM"
      },
      "source": [
        "# print(wordstransfomedarraytrain_labels[0:10])\n",
        "# kappa = [indicies_words[word] for word in list(wordstransfomedarraytrain_labels)[0:20]]\n",
        "# print(kappa)"
      ],
      "execution_count": 95,
      "outputs": []
    },
    {
      "cell_type": "code",
      "metadata": {
        "id": "oN8ehEcT1pdU"
      },
      "source": [
        ""
      ],
      "execution_count": 95,
      "outputs": []
    },
    {
      "cell_type": "code",
      "metadata": {
        "id": "1efu9fil1rdd"
      },
      "source": [
        "# #2. kitalaljuk a modellt\n",
        "# 1. modell  x:1. szó y:2.szó\n",
        "\n",
        "# 2. model lstm x:1.szó y:2.szó\n",
        "\n",
        "# 3. modell rnn\n",
        "\n",
        "# 4. attention based\n",
        "\n",
        "# 5. transformer"
      ],
      "execution_count": 96,
      "outputs": []
    },
    {
      "cell_type": "code",
      "metadata": {
        "id": "cGsZrygrLGOh"
      },
      "source": [
        "# wordstransfomedarraytrain_labels[0:10]"
      ],
      "execution_count": 97,
      "outputs": []
    },
    {
      "cell_type": "code",
      "metadata": {
        "id": "G1hizQA-1EGU"
      },
      "source": [
        "#for i in range(0,50):\n",
        "#  print(indicies_words[int(X_indices[i, 0])], indicies_words[int(X_indices[i, 1])], indicies_words[int(y_indices[i])])\n",
        "  "
      ],
      "execution_count": 98,
      "outputs": []
    },
    {
      "cell_type": "code",
      "metadata": {
        "id": "ygceaEcII0r0"
      },
      "source": [
        "# X_matrix, _, X_indices, y_indices, y_matrix_categorical = io_generator(index = 0, window_size=3, input_size=input_size)"
      ],
      "execution_count": 99,
      "outputs": []
    },
    {
      "cell_type": "code",
      "metadata": {
        "id": "0FVMx2AwfJn_"
      },
      "source": [
        "# for i in range(0,1):\n",
        "  # print('X: ', X_indices[i, :], '    y1: ',np.argmax(y_matrix_categorical[i,:]), '  y2: ', y_indices[i+1])\n",
        "#   print(X_indices[i, :], np.argmax(y_matrix_categorical[i,:]))\n",
        "  "
      ],
      "execution_count": 100,
      "outputs": []
    },
    {
      "cell_type": "code",
      "metadata": {
        "id": "HzrlthxDC9x_"
      },
      "source": [
        "# indicies_words[2]"
      ],
      "execution_count": 101,
      "outputs": []
    },
    {
      "cell_type": "code",
      "metadata": {
        "id": "mCqySORrffF3"
      },
      "source": [
        "import numpy as np\n",
        "\n",
        "\n",
        "\n",
        "# This function generates the input for the model\n",
        "# Input: index: here we specify at which index we start the generation from.\n",
        "#               default: 0, that is we start from the beginning\n",
        "#        windows_size: length(input + output), where length(output) = 1\n",
        "def io_generator(index = 0, window_size = 4, input_size = 1, window_step = 1):\n",
        "  X_matrix_big = np.zeros((1, window_size - 1, 128))\n",
        "  y_matrix_categorical_big = np.zeros((1, len(dictionary)))\n",
        "  y_indices_big = np.zeros((1))\n",
        "  X_indices_big = np.zeros((window_size - 1))\n",
        "  # y_indices_big = []\n",
        "  for i in range(input_size):\n",
        "    float_vector = [] # for temporarly storing one line of vectors\n",
        "    float_matrix = []\n",
        "    for row in list(wordstransfomedarraytrain[index:index+window_size]): # 0: 0 + 1 that is: 0, 1. word\n",
        "      for str_number in row.split():\n",
        "        float_vector.append(float(str_number))\n",
        "      float_matrix.append(float_vector) # [], word0, word1\n",
        "      float_vector = []\n",
        "    X = float_matrix[0:-1]\n",
        "    y = float_matrix[-1]\n",
        "    \n",
        "    \n",
        "    # We also save the indicies for the specific words. \n",
        "    # These indicies represent positions in the dictionary\n",
        "    # We need y_indicies to be able to one-hot encode y\n",
        "    indices = wordstransfomedarraytrain_labels[index:index+window_size]\n",
        "    X_indices = indices[0:-1]\n",
        "    y_indices = indices[-1]\n",
        "    y_categorical = keras.utils.to_categorical(y_indices, len(dictionary))\n",
        "    \n",
        "    index = index + window_step\n",
        "    \n",
        "    \n",
        "    X_matrix = np.atleast_3d(X)\n",
        "    X_matrix = X_matrix.reshape(1, window_size - 1, 128)\n",
        "    y_matrix_categorical = np.atleast_3d(y_categorical)\n",
        "    y_matrix_categorical = y_matrix_categorical.reshape(1,len(dictionary))\n",
        "\n",
        "    X_matrix_big = np.vstack((X_matrix_big, X_matrix))\n",
        "    y_matrix_categorical_big = np.vstack((y_matrix_categorical_big, y_matrix_categorical))\n",
        "    y_indices_big = np.vstack((y_indices_big, y_indices))\n",
        "    X_indices_big = np.vstack((X_indices_big, X_indices))\n",
        "    # y_indicies_big.append(y_indices)\n",
        "\n",
        "  # X_matrix = np.delete(X_matrix_big, 0, 0)\n",
        "  # y_matrix_categorical = np.delete(y_matrix_categorical_big, 0, 0)\n",
        "  X_matrix = X_matrix_big\n",
        "\n",
        "  y_indices = y_indices_big\n",
        "  X_indices = X_indices_big\n",
        "  y_matrix_categorical = y_matrix_categorical_big\n",
        "  # return X_matrix[1:, :, :], y, X_indices[1:, :, :], y_indices[1:, :], y_matrix_categorical[1:, :]\n",
        "  return X_matrix[1:, :, :], y, X_indices[1:, :], y_indices[1:, :], y_matrix_categorical[1:, :]\n",
        "\n",
        "\n",
        "\n",
        "# In our dictionary, both the keys and the values are strings\n",
        "# We need to convert the dictionary.values to floats\n",
        "# This is what this function does\n",
        "# Input: dictionary\n",
        "# Output: float_dictionary\n",
        "def dictionary_to_float_dictionary(dictionary):\n",
        "  float_dictionary = dict()\n",
        "  for k, v in dictionary.items():\n",
        "    vector = [float(str_number) for str_number in v.split()  ]\n",
        "    vector = np.asarray(vector)\n",
        "    float_dictionary[k] = vector\n",
        "  return float_dictionary\n",
        "\n",
        "# Now we have a dictionary with keys as strings and values as float vectors\n",
        "float_dictionary = dictionary_to_float_dictionary(dictionary)\n",
        "\n",
        "\n",
        "# Here we generate the input matrices for the model.\n",
        "# To do so we call the io_generator() function iteratively, with increasing index.\n",
        "# It generates input & output sequences\n",
        "# Iteratively calling it we append its return values to the matrices we want to create.\n",
        "X_matrix = []\n",
        "y_matrix = []\n",
        "y_encoded_matrix = []\n",
        "n_input = 10\n",
        "for i in range(0, n_input):\n",
        "  X, y, _, _, y_categorical = io_generator(index = i)\n",
        "  X_matrix.append(X)\n",
        "  y_matrix.append(y)\n",
        "  y_encoded_matrix.append(y_categorical)\n",
        "\n",
        "##### Riht now we are not using the above code #####\n",
        "\n"
      ],
      "execution_count": 102,
      "outputs": []
    },
    {
      "cell_type": "code",
      "metadata": {
        "id": "JnZ7RBpxJL29"
      },
      "source": [
        "# Testing for the first input (which will be the 4th word in the training data)\n",
        "# X, y, _, _, y_categorical = io_generator(index = 0)\n",
        "# indicies_words[np.argmax(y_categorical)]"
      ],
      "execution_count": 103,
      "outputs": []
    },
    {
      "cell_type": "code",
      "metadata": {
        "id": "fvMJs3BjKIac"
      },
      "source": [
        "\n"
      ],
      "execution_count": 103,
      "outputs": []
    },
    {
      "cell_type": "code",
      "metadata": {
        "id": "Cai12YWEfgU0"
      },
      "source": [
        ""
      ],
      "execution_count": 103,
      "outputs": []
    },
    {
      "cell_type": "code",
      "metadata": {
        "id": "wNZ48KQkWfGU"
      },
      "source": [
        ""
      ],
      "execution_count": 103,
      "outputs": []
    },
    {
      "cell_type": "code",
      "metadata": {
        "id": "ovzYEAAtWVar"
      },
      "source": [
        "from tensorflow.keras.models import Sequential\n",
        "from tensorflow.keras.layers import Dense, Activation, Dropout\n",
        "from tensorflow.keras.layers import LSTM # , GRU\n",
        "from tensorflow.keras.optimizers import RMSprop\n",
        "\n",
        "hist_saved = []\n",
        "\n",
        "# Log fájl inicializálás / fejléc\n",
        "with open('hyperas-fashionmnist-log.csv', 'w') as csv_file:\n",
        "  csv_file.write('window_size' + ';')\n",
        "  csv_file.write('n_lstm' + ';')\n",
        "  csv_file.write('optimizer' + ';')\n",
        "  csv_file.write('best_val_acc' + '\\n')\n",
        "\n",
        "\n",
        "\n",
        "\n",
        "window_size = [3, 4, 8, 12]\n",
        "n_lstm = [16, 32, 128, 256]\n",
        "optimizer = ['rmsprop', 'adam']\n",
        "\n",
        "#window_size = [4]\n",
        "#n_lstm = [128]\n",
        "#optimizer = ['rmsprop']\n",
        "#optimizer = ['rmsprop']\n",
        "\n",
        "  \n",
        "for i in range(len(window_size)):\n",
        "  for j in range(len(n_lstm)):\n",
        "    for k in range(len(optimizer)):\n",
        "      print('Running with values: window_size = ', window_size[i], ', n_lstm = ', n_lstm[j], ', optimizer = ', optimizer[k])\n",
        "\n",
        "\n",
        "      # Hyperparameters 1\n",
        "      # window_size = 4 # window_size --> we only feed in 3 words at a time\n",
        "      step = 1 # jumping 1 word at a time\n",
        "\n",
        "\n",
        "\n",
        "\n",
        "      # Creating the model\n",
        "      model = Sequential()\n",
        "      model.add(LSTM(n_lstm[j], input_shape = (window_size[i] -1 , 128) )) # , return_sequences=True)) # number of words x dimension of word matrix\n",
        "      # model.add(Dropout(0.2))\n",
        "      # model.add(LSTM(128))\n",
        "      # model.add(Dropout(0.2))\n",
        "      model.add(Dense(len(dictionary))) # other: y_matrix.shape[1]\n",
        "      model.add(Activation('softmax'))\n",
        "\n",
        "      # optimizer = RMSprop(lr = 0.01)\n",
        "      # optimizer = 'adam'\n",
        "      # optimizer = 'rmsprop'\n",
        "\n",
        "\n",
        "      model.compile(loss = 'categorical_crossentropy',\n",
        "                    metrics = ['accuracy'],\n",
        "                    optimizer = optimizer[k])\n",
        "\n",
        "      # Training the model\n",
        "      # Hyperparameters 2\n",
        "      n_iterations = 1\n",
        "      input_size = 1000\n",
        "      window_step = 1\n",
        "      index = 0\n",
        "      \n",
        "      X_matrix_saved = []\n",
        "      y_matrix_categorical_saved = []\n",
        "      for itr in range(n_iterations):\n",
        "        X_matrix, _, _, _, y_matrix_categorical = io_generator(index = index,\n",
        "                                                              window_size=window_size[i],\n",
        "                                                              input_size=input_size,\n",
        "                                                              window_step = window_step)\n",
        "        X_matrix_saved.append(X_matrix)\n",
        "        y_matrix_categorical_saved.append(y_matrix_categorical)\n",
        "        # X_matrix_saved.\n",
        "\n",
        "        # Early stopping, amellyel figyeljük a validációs hibát (alap beállítás)\n",
        "        from tensorflow.keras.callbacks import EarlyStopping, ModelCheckpoint, TensorBoard\n",
        "        patience=10\n",
        "        early_stopping=EarlyStopping(patience=patience, verbose=1)\n",
        "        # Szintén a validációs hibát figyeljük, és elmentjük a legjobb modellt\n",
        "        checkpointer=ModelCheckpoint(filepath='model_' + str(i) + str(j) + str(k) +'.hdf5', save_best_only=True, monitor = \"loss\", verbose=0)\n",
        "        tb = TensorBoard(log_dir='logs', histogram_freq=1, write_graph=1)\n",
        "\n",
        "\n",
        "        history = model.fit(x = X_matrix,\n",
        "                  y = y_matrix_categorical,\n",
        "                  batch_size=128,\n",
        "                  verbose = 0,\n",
        "                  epochs=40,\n",
        "                  callbacks=[early_stopping, checkpointer, tb]\n",
        "                  )\n",
        "        hist_saved.append(history)\n",
        "        index = index + input_size * window_step\n",
        "        print(itr)\n",
        "        \n",
        "        best_val_acc = max(history.history['accuracy'])\n",
        "        # Log kiírása: háló struktúra, és az eredmény\n",
        "        with open('hyperas-fashionmnist-log.csv', 'a') as csv_file:\n",
        "          csv_file.write(str(window_size[i]) + ';')\n",
        "          csv_file.write(str(n_lstm[j]) + ';')\n",
        "          csv_file.write(str(optimizer[k]) + ';')\n",
        "          csv_file.write(str(best_val_acc) + '\\n')\n",
        "\n",
        "\n",
        "  \n",
        "\n"
      ],
      "execution_count": null,
      "outputs": []
    },
    {
      "cell_type": "code",
      "metadata": {
        "colab": {
          "base_uri": "https://localhost:8080/",
          "height": 1000
        },
        "id": "BKIRWyd_d90B",
        "outputId": "912bdd75-c272-4547-a97f-5f7e0dfd6d4e"
      },
      "source": [
        "# Printing best models\n",
        "import pandas\n",
        "df = pandas.read_csv('hyperas-fashionmnist-log.csv', delimiter=';')\n",
        "df.sort_values(by=['best_val_acc'], ascending=False)"
      ],
      "execution_count": 106,
      "outputs": [
        {
          "output_type": "execute_result",
          "data": {
            "text/html": [
              "<div>\n",
              "<style scoped>\n",
              "    .dataframe tbody tr th:only-of-type {\n",
              "        vertical-align: middle;\n",
              "    }\n",
              "\n",
              "    .dataframe tbody tr th {\n",
              "        vertical-align: top;\n",
              "    }\n",
              "\n",
              "    .dataframe thead th {\n",
              "        text-align: right;\n",
              "    }\n",
              "</style>\n",
              "<table border=\"1\" class=\"dataframe\">\n",
              "  <thead>\n",
              "    <tr style=\"text-align: right;\">\n",
              "      <th></th>\n",
              "      <th>window_size</th>\n",
              "      <th>n_lstm</th>\n",
              "      <th>optimizer</th>\n",
              "      <th>best_val_acc</th>\n",
              "    </tr>\n",
              "  </thead>\n",
              "  <tbody>\n",
              "    <tr>\n",
              "      <th>14</th>\n",
              "      <td>4</td>\n",
              "      <td>256</td>\n",
              "      <td>rmsprop</td>\n",
              "      <td>0.601</td>\n",
              "    </tr>\n",
              "    <tr>\n",
              "      <th>22</th>\n",
              "      <td>8</td>\n",
              "      <td>256</td>\n",
              "      <td>rmsprop</td>\n",
              "      <td>0.551</td>\n",
              "    </tr>\n",
              "    <tr>\n",
              "      <th>6</th>\n",
              "      <td>3</td>\n",
              "      <td>256</td>\n",
              "      <td>rmsprop</td>\n",
              "      <td>0.504</td>\n",
              "    </tr>\n",
              "    <tr>\n",
              "      <th>30</th>\n",
              "      <td>12</td>\n",
              "      <td>256</td>\n",
              "      <td>rmsprop</td>\n",
              "      <td>0.463</td>\n",
              "    </tr>\n",
              "    <tr>\n",
              "      <th>7</th>\n",
              "      <td>3</td>\n",
              "      <td>256</td>\n",
              "      <td>adam</td>\n",
              "      <td>0.377</td>\n",
              "    </tr>\n",
              "    <tr>\n",
              "      <th>15</th>\n",
              "      <td>4</td>\n",
              "      <td>256</td>\n",
              "      <td>adam</td>\n",
              "      <td>0.350</td>\n",
              "    </tr>\n",
              "    <tr>\n",
              "      <th>4</th>\n",
              "      <td>3</td>\n",
              "      <td>128</td>\n",
              "      <td>rmsprop</td>\n",
              "      <td>0.307</td>\n",
              "    </tr>\n",
              "    <tr>\n",
              "      <th>12</th>\n",
              "      <td>4</td>\n",
              "      <td>128</td>\n",
              "      <td>rmsprop</td>\n",
              "      <td>0.302</td>\n",
              "    </tr>\n",
              "    <tr>\n",
              "      <th>20</th>\n",
              "      <td>8</td>\n",
              "      <td>128</td>\n",
              "      <td>rmsprop</td>\n",
              "      <td>0.287</td>\n",
              "    </tr>\n",
              "    <tr>\n",
              "      <th>28</th>\n",
              "      <td>12</td>\n",
              "      <td>128</td>\n",
              "      <td>rmsprop</td>\n",
              "      <td>0.270</td>\n",
              "    </tr>\n",
              "    <tr>\n",
              "      <th>5</th>\n",
              "      <td>3</td>\n",
              "      <td>128</td>\n",
              "      <td>adam</td>\n",
              "      <td>0.252</td>\n",
              "    </tr>\n",
              "    <tr>\n",
              "      <th>23</th>\n",
              "      <td>8</td>\n",
              "      <td>256</td>\n",
              "      <td>adam</td>\n",
              "      <td>0.244</td>\n",
              "    </tr>\n",
              "    <tr>\n",
              "      <th>31</th>\n",
              "      <td>12</td>\n",
              "      <td>256</td>\n",
              "      <td>adam</td>\n",
              "      <td>0.238</td>\n",
              "    </tr>\n",
              "    <tr>\n",
              "      <th>13</th>\n",
              "      <td>4</td>\n",
              "      <td>128</td>\n",
              "      <td>adam</td>\n",
              "      <td>0.237</td>\n",
              "    </tr>\n",
              "    <tr>\n",
              "      <th>3</th>\n",
              "      <td>3</td>\n",
              "      <td>32</td>\n",
              "      <td>adam</td>\n",
              "      <td>0.201</td>\n",
              "    </tr>\n",
              "    <tr>\n",
              "      <th>0</th>\n",
              "      <td>3</td>\n",
              "      <td>16</td>\n",
              "      <td>rmsprop</td>\n",
              "      <td>0.200</td>\n",
              "    </tr>\n",
              "    <tr>\n",
              "      <th>9</th>\n",
              "      <td>4</td>\n",
              "      <td>16</td>\n",
              "      <td>adam</td>\n",
              "      <td>0.200</td>\n",
              "    </tr>\n",
              "    <tr>\n",
              "      <th>1</th>\n",
              "      <td>3</td>\n",
              "      <td>16</td>\n",
              "      <td>adam</td>\n",
              "      <td>0.189</td>\n",
              "    </tr>\n",
              "    <tr>\n",
              "      <th>25</th>\n",
              "      <td>12</td>\n",
              "      <td>16</td>\n",
              "      <td>adam</td>\n",
              "      <td>0.187</td>\n",
              "    </tr>\n",
              "    <tr>\n",
              "      <th>8</th>\n",
              "      <td>4</td>\n",
              "      <td>16</td>\n",
              "      <td>rmsprop</td>\n",
              "      <td>0.187</td>\n",
              "    </tr>\n",
              "    <tr>\n",
              "      <th>11</th>\n",
              "      <td>4</td>\n",
              "      <td>32</td>\n",
              "      <td>adam</td>\n",
              "      <td>0.186</td>\n",
              "    </tr>\n",
              "    <tr>\n",
              "      <th>10</th>\n",
              "      <td>4</td>\n",
              "      <td>32</td>\n",
              "      <td>rmsprop</td>\n",
              "      <td>0.186</td>\n",
              "    </tr>\n",
              "    <tr>\n",
              "      <th>17</th>\n",
              "      <td>8</td>\n",
              "      <td>16</td>\n",
              "      <td>adam</td>\n",
              "      <td>0.185</td>\n",
              "    </tr>\n",
              "    <tr>\n",
              "      <th>18</th>\n",
              "      <td>8</td>\n",
              "      <td>32</td>\n",
              "      <td>rmsprop</td>\n",
              "      <td>0.185</td>\n",
              "    </tr>\n",
              "    <tr>\n",
              "      <th>19</th>\n",
              "      <td>8</td>\n",
              "      <td>32</td>\n",
              "      <td>adam</td>\n",
              "      <td>0.185</td>\n",
              "    </tr>\n",
              "    <tr>\n",
              "      <th>21</th>\n",
              "      <td>8</td>\n",
              "      <td>128</td>\n",
              "      <td>adam</td>\n",
              "      <td>0.185</td>\n",
              "    </tr>\n",
              "    <tr>\n",
              "      <th>2</th>\n",
              "      <td>3</td>\n",
              "      <td>32</td>\n",
              "      <td>rmsprop</td>\n",
              "      <td>0.185</td>\n",
              "    </tr>\n",
              "    <tr>\n",
              "      <th>16</th>\n",
              "      <td>8</td>\n",
              "      <td>16</td>\n",
              "      <td>rmsprop</td>\n",
              "      <td>0.185</td>\n",
              "    </tr>\n",
              "    <tr>\n",
              "      <th>24</th>\n",
              "      <td>12</td>\n",
              "      <td>16</td>\n",
              "      <td>rmsprop</td>\n",
              "      <td>0.184</td>\n",
              "    </tr>\n",
              "    <tr>\n",
              "      <th>26</th>\n",
              "      <td>12</td>\n",
              "      <td>32</td>\n",
              "      <td>rmsprop</td>\n",
              "      <td>0.184</td>\n",
              "    </tr>\n",
              "    <tr>\n",
              "      <th>27</th>\n",
              "      <td>12</td>\n",
              "      <td>32</td>\n",
              "      <td>adam</td>\n",
              "      <td>0.184</td>\n",
              "    </tr>\n",
              "    <tr>\n",
              "      <th>29</th>\n",
              "      <td>12</td>\n",
              "      <td>128</td>\n",
              "      <td>adam</td>\n",
              "      <td>0.184</td>\n",
              "    </tr>\n",
              "  </tbody>\n",
              "</table>\n",
              "</div>"
            ],
            "text/plain": [
              "    window_size  n_lstm optimizer  best_val_acc\n",
              "14            4     256   rmsprop         0.601\n",
              "22            8     256   rmsprop         0.551\n",
              "6             3     256   rmsprop         0.504\n",
              "30           12     256   rmsprop         0.463\n",
              "7             3     256      adam         0.377\n",
              "15            4     256      adam         0.350\n",
              "4             3     128   rmsprop         0.307\n",
              "12            4     128   rmsprop         0.302\n",
              "20            8     128   rmsprop         0.287\n",
              "28           12     128   rmsprop         0.270\n",
              "5             3     128      adam         0.252\n",
              "23            8     256      adam         0.244\n",
              "31           12     256      adam         0.238\n",
              "13            4     128      adam         0.237\n",
              "3             3      32      adam         0.201\n",
              "0             3      16   rmsprop         0.200\n",
              "9             4      16      adam         0.200\n",
              "1             3      16      adam         0.189\n",
              "25           12      16      adam         0.187\n",
              "8             4      16   rmsprop         0.187\n",
              "11            4      32      adam         0.186\n",
              "10            4      32   rmsprop         0.186\n",
              "17            8      16      adam         0.185\n",
              "18            8      32   rmsprop         0.185\n",
              "19            8      32      adam         0.185\n",
              "21            8     128      adam         0.185\n",
              "2             3      32   rmsprop         0.185\n",
              "16            8      16   rmsprop         0.185\n",
              "24           12      16   rmsprop         0.184\n",
              "26           12      32   rmsprop         0.184\n",
              "27           12      32      adam         0.184\n",
              "29           12     128      adam         0.184"
            ]
          },
          "metadata": {
            "tags": []
          },
          "execution_count": 106
        }
      ]
    },
    {
      "cell_type": "code",
      "metadata": {
        "colab": {
          "base_uri": "https://localhost:8080/",
          "height": 238
        },
        "id": "qQSS4kAje8f5",
        "outputId": "96e94dc8-e381-43b9-cbd2-43956bf89bc8"
      },
      "source": [
        "# Print the best 10 models\n",
        "hyperas_log = pandas.read_csv('hyperas-fashionmnist-log.csv', delimiter=';')\n",
        "hyperas_best10 = hyperas_log.sort_values(by=['best_val_acc'], ascending=False).head(n=5)\n",
        "hyperas_best10"
      ],
      "execution_count": 107,
      "outputs": [
        {
          "output_type": "execute_result",
          "data": {
            "text/html": [
              "<div>\n",
              "<style scoped>\n",
              "    .dataframe tbody tr th:only-of-type {\n",
              "        vertical-align: middle;\n",
              "    }\n",
              "\n",
              "    .dataframe tbody tr th {\n",
              "        vertical-align: top;\n",
              "    }\n",
              "\n",
              "    .dataframe thead th {\n",
              "        text-align: right;\n",
              "    }\n",
              "</style>\n",
              "<table border=\"1\" class=\"dataframe\">\n",
              "  <thead>\n",
              "    <tr style=\"text-align: right;\">\n",
              "      <th></th>\n",
              "      <th>window_size</th>\n",
              "      <th>n_lstm</th>\n",
              "      <th>optimizer</th>\n",
              "      <th>best_val_acc</th>\n",
              "    </tr>\n",
              "  </thead>\n",
              "  <tbody>\n",
              "    <tr>\n",
              "      <th>14</th>\n",
              "      <td>4</td>\n",
              "      <td>256</td>\n",
              "      <td>rmsprop</td>\n",
              "      <td>0.601</td>\n",
              "    </tr>\n",
              "    <tr>\n",
              "      <th>22</th>\n",
              "      <td>8</td>\n",
              "      <td>256</td>\n",
              "      <td>rmsprop</td>\n",
              "      <td>0.551</td>\n",
              "    </tr>\n",
              "    <tr>\n",
              "      <th>6</th>\n",
              "      <td>3</td>\n",
              "      <td>256</td>\n",
              "      <td>rmsprop</td>\n",
              "      <td>0.504</td>\n",
              "    </tr>\n",
              "    <tr>\n",
              "      <th>30</th>\n",
              "      <td>12</td>\n",
              "      <td>256</td>\n",
              "      <td>rmsprop</td>\n",
              "      <td>0.463</td>\n",
              "    </tr>\n",
              "    <tr>\n",
              "      <th>7</th>\n",
              "      <td>3</td>\n",
              "      <td>256</td>\n",
              "      <td>adam</td>\n",
              "      <td>0.377</td>\n",
              "    </tr>\n",
              "  </tbody>\n",
              "</table>\n",
              "</div>"
            ],
            "text/plain": [
              "    window_size  n_lstm optimizer  best_val_acc\n",
              "14            4     256   rmsprop         0.601\n",
              "22            8     256   rmsprop         0.551\n",
              "6             3     256   rmsprop         0.504\n",
              "30           12     256   rmsprop         0.463\n",
              "7             3     256      adam         0.377"
            ]
          },
          "metadata": {
            "tags": []
          },
          "execution_count": 107
        }
      ]
    },
    {
      "cell_type": "code",
      "metadata": {
        "colab": {
          "base_uri": "https://localhost:8080/",
          "height": 238
        },
        "id": "TeaNb-mJfWfs",
        "outputId": "b3029dae-03d6-4e48-82de-ab15b334ff97"
      },
      "source": [
        "# Print the worst 10 models\n",
        "hyperas_worst10 = hyperas_log.sort_values(by=['best_val_acc'], ascending=False).tail(n=5)\n",
        "hyperas_worst10"
      ],
      "execution_count": 108,
      "outputs": [
        {
          "output_type": "execute_result",
          "data": {
            "text/html": [
              "<div>\n",
              "<style scoped>\n",
              "    .dataframe tbody tr th:only-of-type {\n",
              "        vertical-align: middle;\n",
              "    }\n",
              "\n",
              "    .dataframe tbody tr th {\n",
              "        vertical-align: top;\n",
              "    }\n",
              "\n",
              "    .dataframe thead th {\n",
              "        text-align: right;\n",
              "    }\n",
              "</style>\n",
              "<table border=\"1\" class=\"dataframe\">\n",
              "  <thead>\n",
              "    <tr style=\"text-align: right;\">\n",
              "      <th></th>\n",
              "      <th>window_size</th>\n",
              "      <th>n_lstm</th>\n",
              "      <th>optimizer</th>\n",
              "      <th>best_val_acc</th>\n",
              "    </tr>\n",
              "  </thead>\n",
              "  <tbody>\n",
              "    <tr>\n",
              "      <th>16</th>\n",
              "      <td>8</td>\n",
              "      <td>16</td>\n",
              "      <td>rmsprop</td>\n",
              "      <td>0.185</td>\n",
              "    </tr>\n",
              "    <tr>\n",
              "      <th>24</th>\n",
              "      <td>12</td>\n",
              "      <td>16</td>\n",
              "      <td>rmsprop</td>\n",
              "      <td>0.184</td>\n",
              "    </tr>\n",
              "    <tr>\n",
              "      <th>26</th>\n",
              "      <td>12</td>\n",
              "      <td>32</td>\n",
              "      <td>rmsprop</td>\n",
              "      <td>0.184</td>\n",
              "    </tr>\n",
              "    <tr>\n",
              "      <th>27</th>\n",
              "      <td>12</td>\n",
              "      <td>32</td>\n",
              "      <td>adam</td>\n",
              "      <td>0.184</td>\n",
              "    </tr>\n",
              "    <tr>\n",
              "      <th>29</th>\n",
              "      <td>12</td>\n",
              "      <td>128</td>\n",
              "      <td>adam</td>\n",
              "      <td>0.184</td>\n",
              "    </tr>\n",
              "  </tbody>\n",
              "</table>\n",
              "</div>"
            ],
            "text/plain": [
              "    window_size  n_lstm optimizer  best_val_acc\n",
              "16            8      16   rmsprop         0.185\n",
              "24           12      16   rmsprop         0.184\n",
              "26           12      32   rmsprop         0.184\n",
              "27           12      32      adam         0.184\n",
              "29           12     128      adam         0.184"
            ]
          },
          "metadata": {
            "tags": []
          },
          "execution_count": 108
        }
      ]
    },
    {
      "cell_type": "code",
      "metadata": {
        "colab": {
          "base_uri": "https://localhost:8080/",
          "height": 1000
        },
        "id": "s8v_mE_re_7h",
        "outputId": "db167175-0d03-4c60-abe3-1430e2091ab3"
      },
      "source": [
        "import matplotlib.pyplot as plt\n",
        "\n",
        "for hyperparam in [ 'window_size', 'n_lstm', 'optimizer', 'best_val_acc']:\n",
        "  ax1 = hyperas_log.plot(kind='scatter', x=hyperparam, y='best_val_acc')\n",
        "  hyperas_best10.plot(kind='scatter', x=hyperparam, y='best_val_acc', color='red', ax=ax1)\n",
        "  hyperas_worst10.plot(kind='scatter', x=hyperparam, y='best_val_acc', color='yellow', ax=ax1)\n"
      ],
      "execution_count": 109,
      "outputs": [
        {
          "output_type": "display_data",
          "data": {
            "image/png": "[encoded data removed]",
            "text/plain": [
              "<Figure size 432x288 with 1 Axes>"
            ]
          },
          "metadata": {
            "tags": [],
            "needs_background": "light"
          }
        },
        {
          "output_type": "display_data",
          "data": {
            "image/png": "[encoded data removed]",
            "text/plain": [
              "<Figure size 432x288 with 1 Axes>"
            ]
          },
          "metadata": {
            "tags": [],
            "needs_background": "light"
          }
        },
        {
          "output_type": "display_data",
          "data": {
            "image/png": "[encoded data removed]",
            "text/plain": [
              "<Figure size 432x288 with 1 Axes>"
            ]
          },
          "metadata": {
            "tags": [],
            "needs_background": "light"
          }
        },
        {
          "output_type": "display_data",
          "data": {
            "image/png": "[encoded data removed]",
            "text/plain": [
              "<Figure size 432x288 with 1 Axes>"
            ]
          },
          "metadata": {
            "tags": [],
            "needs_background": "light"
          }
        }
      ]
    },
    {
      "cell_type": "code",
      "metadata": {
        "colab": {
          "base_uri": "https://localhost:8080/",
          "height": 263
        },
        "id": "aZ4LDF_Se4Oh",
        "outputId": "dfaf0dc6-c236-4d28-cd8e-741580edb1e9"
      },
      "source": [
        "plt.scatter(hyperas_log.optimizer, hyperas_log.best_val_acc)\n",
        "plt.scatter(hyperas_best10.optimizer, hyperas_best10.best_val_acc, color='red')\n",
        "plt.scatter(hyperas_worst10.optimizer, hyperas_worst10.best_val_acc, color='yellow')\n",
        "plt.show()"
      ],
      "execution_count": 110,
      "outputs": [
        {
          "output_type": "display_data",
          "data": {
            "image/png": "[encoded data removed]",
            "text/plain": [
              "<Figure size 432x288 with 1 Axes>"
            ]
          },
          "metadata": {
            "tags": [],
            "needs_background": "light"
          }
        }
      ]
    },
    {
      "cell_type": "code",
      "metadata": {
        "id": "sF9jns9w80aV",
        "colab": {
          "base_uri": "https://localhost:8080/",
          "height": 414
        },
        "outputId": "3486e3f9-5454-4e63-b868-c26dc59d8d36"
      },
      "source": [
        "# How are the hyperparameters and the val_acc realated?\n",
        "from mpl_toolkits.mplot3d import Axes3D\n",
        "# Let's plot the relation of n_filters1 / n_filters2 and the best_val_acc\n",
        "fig = plt.figure(figsize=(10,7))\n",
        "ax = fig.add_subplot(111, projection='3d')\n",
        "p = ax.scatter3D(hyperas_log.window_size, hyperas_log.n_lstm, hyperas_log.best_val_acc, c=hyperas_log.best_val_acc)\n",
        "ax.set_xlabel('window_size')\n",
        "ax.set_ylabel('n_lstm')\n",
        "ax.set_zlabel('best_val_acc')\n",
        "fig.colorbar(p)\n",
        "plt.show()"
      ],
      "execution_count": 124,
      "outputs": [
        {
          "output_type": "display_data",
          "data": {
            "image/png": "[encoded data removed]",
            "text/plain": [
              "<Figure size 720x504 with 2 Axes>"
            ]
          },
          "metadata": {
            "tags": [],
            "needs_background": "light"
          }
        }
      ]
    },
    {
      "cell_type": "code",
      "metadata": {
        "id": "zskVOUulhlg_"
      },
      "source": [
        "# Printing out the loss function\n",
        "import matplotlib.pyplot as plt\n",
        "\n",
        "for hist in hist_saved[:40]:\n",
        "  plt.plot(hist.history['loss'])\n"
      ],
      "execution_count": null,
      "outputs": []
    },
    {
      "cell_type": "code",
      "metadata": {
        "id": "Ga7GhO5tnLpF"
      },
      "source": [
        ""
      ],
      "execution_count": null,
      "outputs": []
    },
    {
      "cell_type": "code",
      "metadata": {
        "id": "AEBNzc_1fgFp"
      },
      "source": [
        "\n"
      ],
      "execution_count": null,
      "outputs": []
    },
    {
      "cell_type": "code",
      "metadata": {
        "id": "apWUSWjdzwj-"
      },
      "source": [
        ""
      ],
      "execution_count": null,
      "outputs": []
    },
    {
      "cell_type": "code",
      "metadata": {
        "id": "RriUwwgauLef"
      },
      "source": [
        "\n"
      ],
      "execution_count": null,
      "outputs": []
    },
    {
      "cell_type": "code",
      "metadata": {
        "id": "Wu1IhJtVwf3a"
      },
      "source": [
        "\"\"\"\n",
        "for i in range(1):\n",
        "  plt.plot( [np.argmax(value) for value in y_matrix_categorical_saved[i]] )\n",
        "\n",
        "kappa = X_matrix_saved[1]\n",
        "kappa.shape\n",
        "for i in range(kappa.shape[0]):\n",
        "  plt.plot(kappa[i, 1, :])\n",
        "\n",
        "plt.plot( [ value in X_matrix_saved[:, 1, :]]\n",
        "\"\"\""
      ],
      "execution_count": null,
      "outputs": []
    },
    {
      "cell_type": "code",
      "metadata": {
        "id": "tLczO9QOxm6b"
      },
      "source": [
        ""
      ],
      "execution_count": null,
      "outputs": []
    },
    {
      "cell_type": "code",
      "metadata": {
        "id": "QZnZrRExvfM6"
      },
      "source": [
        ")"
      ],
      "execution_count": null,
      "outputs": []
    },
    {
      "cell_type": "code",
      "metadata": {
        "id": "Jx9904S58L29",
        "colab": {
          "base_uri": "https://localhost:8080/"
        },
        "outputId": "bcd0f4f6-ea84-413d-9132-3e69df382558"
      },
      "source": [
        "# This function return the vector form of the model output\n",
        "# (First it converts it to index and the using indicies_words it \n",
        "# transformes the index to the vector form)\n",
        "# Input: model_output\n",
        "# Output: vector from of the model_output\n",
        "def model_output_to_vector(model_output):\n",
        "  szo = indicies_words[np.argmax(model_output)]\n",
        "  vector = float_dictionary[szo]\n",
        "  return vector\n",
        "\n",
        "# This function deletes the first element of the input vector\n",
        "# and appends a new element to the last position.\n",
        "# We use this for text generation.\n",
        "# Input: old_input, new_vector\n",
        "# Output: new_input\n",
        "def refresh_input(old_input, new_vector):\n",
        "  new_input = np.zeros(old_input.shape)\n",
        "  dim = old_input.shape[1]\n",
        "  new_input[0,:(dim - 1), : ] = old_input[0, 1:dim, :]\n",
        "  new_input[0, dim - 1, :] = new_vector\n",
        "  return new_input\n",
        "\n",
        "\n",
        "# mintavétel, ami újrasúlyozza a predikciót a temperature változó alapján \n",
        "# Function for sampling. It re-weights the prediction depending on the temperature variable\n",
        "# Input: preds : the distribution to be re-weighted\n",
        "#        temperature : changes the distribution. The heigher we set the value, the more it changes\n",
        "#                      If we want to have a good impact, we encourage the user to set temperature >= 2\n",
        "def sample(preds, temperature=2):\n",
        "    preds = np.asarray(preds).astype('float64')\n",
        "    preds = np.log(preds) / temperature\n",
        "    exp_preds = np.exp(preds)\n",
        "    preds = exp_preds / np.sum(exp_preds) # Az összes lehetőség egyre szummázódjon (lásd softmax képlet)\n",
        "    probas = np.random.multinomial(1, preds, 1)\n",
        "    return np.argmax(probas), preds\n",
        "\n",
        "\n",
        "\n",
        "\n",
        "# This function generates text using the trained model.\n",
        "# Input: input: the starting sequence\n",
        "#        n_to_generate: this is how many words will be automatically generated \n",
        "#                       using \"input\" as starting sequence\n",
        "# Output: text: the generated string\n",
        "def word_generator(input, input_indicies = None, n_to_generate = 50):\n",
        "  text = []\n",
        "  text_indicies = []\n",
        "  for i in range(n_to_generate):\n",
        "    output = model.predict(input)\n",
        "    output_arg, output = sample(output[0, :])\n",
        "    output = np.asarray(output).astype('float32')\n",
        "    output = output * 0\n",
        "    output[output_arg] = 1\n",
        "    # print(' Ezeknek kéne megegyezniük, de a tempearture miatt nem :) --> ', output_arg, np.argmax(output))\n",
        "    text.append(indicies_words[np.argmax(output)])\n",
        "    text_indicies.append(np.argmax(output))\n",
        "    # vector = model_output_to_vector(model_output = output)\n",
        "    vector = model_output_to_vector(model_output = indicies_words[output_arg])\n",
        "    new_input = refresh_input(old_input = input, new_vector = vector)\n",
        "    input = new_input\n",
        "  return text, text_indicies\n",
        "\n",
        "\n",
        "\"\"\"\n",
        "### --- Szöveg predikálás --- ###\n",
        "\"\"\"\n",
        "# Generating an input from the beginning of the corpus\n",
        "input, _, input_indicies, _, _ = io_generator(index = 0,  window_size=window_size[-1])\n",
        "# Feeding the input to the text generator & predicting a text sequence.\n",
        "text, text_indicies = word_generator(input=input, input_indicies = input_indicies)\n",
        "\n",
        "print(' A predikált text:', text)"
      ],
      "execution_count": 122,
      "outputs": [
        {
          "output_type": "stream",
          "text": [
            " A predikált text: ['nemcsak', 'vele', 'egyszerre', '17', 'csak', 'elfogyott', 'john', 'kérdeztem', 'nekem', 'hát', 'már', 'pont', 'leszek', 'pont', 'éve', 'a', 'gyerek', 'délután', 'akar', 'nem', 'is', 'vesszõ', 'kicsit', 'kettõspont', 'házába', 'semmit', 'ilyen', 'úgyis', 'velem', 'mindig', 'vesszõ', 'megyek', 'belső', 'tud', 'már', 'vesszõ', 'is', 'ilyen', 'kicsit', 'eső', 'már', 'mellett', 'azt', 'észak', 'megy', 'magamat', 'vesszõ', 'engedett', 'lesz', 'édesanyám']\n"
          ],
          "name": "stdout"
        }
      ]
    },
    {
      "cell_type": "code",
      "metadata": {
        "id": "_RGhb5T6APLy",
        "colab": {
          "base_uri": "https://localhost:8080/"
        },
        "outputId": "2c7737be-8a86-4b40-898c-f683fbf7fc2e"
      },
      "source": [
        "# Evaluating the performance on a specific input\n",
        "input, _, input_indicies, y_indices, y_matrix_categorical = io_generator(index = 0,  window_size=window_size[-1], input_size=1000)\n",
        "model.evaluate(x=input, y=y_matrix_categorical)"
      ],
      "execution_count": 118,
      "outputs": [
        {
          "output_type": "stream",
          "text": [
            "32/32 [==============================] - 1s 19ms/step - loss: 3.7055 - accuracy: 0.2310\n"
          ],
          "name": "stdout"
        },
        {
          "output_type": "execute_result",
          "data": {
            "text/plain": [
              "[3.7054593563079834, 0.23100000619888306]"
            ]
          },
          "metadata": {
            "tags": []
          },
          "execution_count": 118
        }
      ]
    },
    {
      "cell_type": "code",
      "metadata": {
        "id": "n2HBRqNxJxlK"
      },
      "source": [
        ""
      ],
      "execution_count": 120,
      "outputs": []
    },
    {
      "cell_type": "code",
      "metadata": {
        "id": "9hNzr4OeXgf2"
      },
      "source": [
        ""
      ],
      "execution_count": null,
      "outputs": []
    },
    {
      "cell_type": "code",
      "metadata": {
        "id": "pGHg8mtTE74X"
      },
      "source": [
        ""
      ],
      "execution_count": null,
      "outputs": []
    },
    {
      "cell_type": "code",
      "metadata": {
        "id": "x54e5obHj_zw"
      },
      "source": [
        ""
      ],
      "execution_count": 120,
      "outputs": []
    }
  ]
}